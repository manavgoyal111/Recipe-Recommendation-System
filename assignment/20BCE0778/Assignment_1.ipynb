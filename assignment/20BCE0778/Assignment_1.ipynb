{
  "nbformat": 4,
  "nbformat_minor": 0,
  "metadata": {
    "colab": {
      "provenance": []
    },
    "kernelspec": {
      "name": "python3",
      "display_name": "Python 3"
    },
    "language_info": {
      "name": "python"
    }
  },
  "cells": [
    {
      "cell_type": "markdown",
      "source": [
        "1. Create a pandas dataframe (DataFrame name as 'df') with numpy random values (4 features and 4 observation)"
      ],
      "metadata": {
        "id": "BH36ZB7q5q6W"
      }
    },
    {
      "cell_type": "code",
      "execution_count": null,
      "metadata": {
        "id": "CjsfwfZq5Y6U"
      },
      "outputs": [],
      "source": [
        "import pandas as pd\n",
        "import numpy as np"
      ]
    },
    {
      "cell_type": "code",
      "source": [
        "data = np.random.randn(4, 4)"
      ],
      "metadata": {
        "id": "pKfx9rFh5fxy"
      },
      "execution_count": null,
      "outputs": []
    },
    {
      "cell_type": "code",
      "source": [
        "df = pd.DataFrame(data, columns=['Feature1', 'Feature2', 'Feature3', 'Feature4'])\n",
        "print(df)"
      ],
      "metadata": {
        "colab": {
          "base_uri": "https://localhost:8080/"
        },
        "id": "cw3lJn5K5h6N",
        "outputId": "df4d2f5c-72f6-4cda-b08a-cf34572a0048"
      },
      "execution_count": null,
      "outputs": [
        {
          "output_type": "stream",
          "name": "stdout",
          "text": [
            "   Feature1  Feature2  Feature3  Feature4\n",
            "0  1.533463  0.794252 -0.550936 -0.278315\n",
            "1 -0.298576 -0.488182  0.609604  0.870409\n",
            "2 -0.025690  1.013421  0.722952 -0.253719\n",
            "3 -0.262180 -0.539625 -0.859384 -0.781713\n"
          ]
        }
      ]
    },
    {
      "cell_type": "markdown",
      "source": [
        "2. Rename the task - 1 'df' dataframe column names to 'Random value 1', 'Random value 2', 'Random value 3' & 'Random value 4'"
      ],
      "metadata": {
        "id": "4SsypWcf5wLa"
      }
    },
    {
      "cell_type": "code",
      "source": [
        "df = df.rename(columns={'Feature1': 'Random value 1',\n",
        "                        'Feature2': 'Random value 2',\n",
        "                        'Feature3': 'Random value 3',\n",
        "                        'Feature4': 'Random value 4'})\n",
        "print(df)"
      ],
      "metadata": {
        "colab": {
          "base_uri": "https://localhost:8080/"
        },
        "id": "B4Dra5Sv5msY",
        "outputId": "89f3c38f-0ed7-4ed0-cd17-2ab7632fbbf6"
      },
      "execution_count": null,
      "outputs": [
        {
          "output_type": "stream",
          "name": "stdout",
          "text": [
            "   Random value 1  Random value 2  Random value 3  Random value 4\n",
            "0        1.533463        0.794252       -0.550936       -0.278315\n",
            "1       -0.298576       -0.488182        0.609604        0.870409\n",
            "2       -0.025690        1.013421        0.722952       -0.253719\n",
            "3       -0.262180       -0.539625       -0.859384       -0.781713\n"
          ]
        }
      ]
    },
    {
      "cell_type": "markdown",
      "source": [
        "3. Find the descriptive statistics of the 'df' dataframe."
      ],
      "metadata": {
        "id": "2WF8S0Oh6N3d"
      }
    },
    {
      "cell_type": "code",
      "source": [
        "statistics = df.describe()\n",
        "print(statistics)"
      ],
      "metadata": {
        "colab": {
          "base_uri": "https://localhost:8080/"
        },
        "id": "SV5JC08E6G9I",
        "outputId": "ceef87c8-6574-4ed8-fc88-7a04912b6ec8"
      },
      "execution_count": null,
      "outputs": [
        {
          "output_type": "stream",
          "name": "stdout",
          "text": [
            "       Random value 1  Random value 2  Random value 3  Random value 4\n",
            "count        4.000000        4.000000        4.000000        4.000000\n",
            "mean         0.236754        0.194967       -0.019441       -0.110834\n",
            "std          0.872897        0.823676        0.803085        0.697945\n",
            "min         -0.298576       -0.539625       -0.859384       -0.781713\n",
            "25%         -0.271279       -0.501042       -0.628048       -0.404165\n",
            "50%         -0.143935        0.153035        0.029334       -0.266017\n",
            "75%          0.364098        0.849045        0.637941        0.027313\n",
            "max          1.533463        1.013421        0.722952        0.870409\n"
          ]
        }
      ]
    },
    {
      "cell_type": "markdown",
      "source": [
        "4. Check for the null values in 'df' and find the data type of the columns."
      ],
      "metadata": {
        "id": "xd8MVxoD6dvI"
      }
    },
    {
      "cell_type": "code",
      "source": [
        "null_values = df.isnull().sum()\n",
        "print(\"Null values:\")\n",
        "print(null_values)"
      ],
      "metadata": {
        "colab": {
          "base_uri": "https://localhost:8080/"
        },
        "id": "ZOZI-y9e6Y2u",
        "outputId": "dd571402-601d-4c71-cfe5-48b3bce153d4"
      },
      "execution_count": null,
      "outputs": [
        {
          "output_type": "stream",
          "name": "stdout",
          "text": [
            "Null values:\n",
            "Random value 1    0\n",
            "Random value 2    0\n",
            "Random value 3    0\n",
            "Random value 4    0\n",
            "dtype: int64\n",
            "\n",
            "Data types:\n",
            "Random value 1    float64\n",
            "Random value 2    float64\n",
            "Random value 3    float64\n",
            "Random value 4    float64\n",
            "dtype: object\n"
          ]
        }
      ]
    },
    {
      "cell_type": "code",
      "source": [
        "data_types = df.dtypes\n",
        "print(\"\\nData types:\")\n",
        "print(data_types)"
      ],
      "metadata": {
        "colab": {
          "base_uri": "https://localhost:8080/"
        },
        "id": "7rf2_1eH7NTX",
        "outputId": "ddf55e4c-8dc1-4ba7-cf24-839b15e80193"
      },
      "execution_count": null,
      "outputs": [
        {
          "output_type": "stream",
          "name": "stdout",
          "text": [
            "\n",
            "Data types:\n",
            "Random value 1    float64\n",
            "Random value 2    float64\n",
            "Random value 3    float64\n",
            "Random value 4    float64\n",
            "dtype: object\n"
          ]
        }
      ]
    },
    {
      "cell_type": "markdown",
      "source": [
        "5. Display the 'Random value 2' & 'Random value 3' columns with location method and index location method."
      ],
      "metadata": {
        "id": "zm9JJzAC6tvw"
      }
    },
    {
      "cell_type": "code",
      "source": [
        "columns_loc = df.loc[:, ['Random value 2', 'Random value 3']]\n",
        "print(\"Columns using the location method:\")\n",
        "print(columns_loc)"
      ],
      "metadata": {
        "colab": {
          "base_uri": "https://localhost:8080/"
        },
        "id": "dqBAn_Ep6kU6",
        "outputId": "7e76f269-bd55-4698-c19c-4e2c646b302a"
      },
      "execution_count": null,
      "outputs": [
        {
          "output_type": "stream",
          "name": "stdout",
          "text": [
            "Columns using the location method:\n",
            "   Random value 2  Random value 3\n",
            "0        0.794252       -0.550936\n",
            "1       -0.488182        0.609604\n",
            "2        1.013421        0.722952\n",
            "3       -0.539625       -0.859384\n"
          ]
        }
      ]
    },
    {
      "cell_type": "code",
      "source": [
        "columns_iloc = df.iloc[:, [1, 2]]\n",
        "print(\"\\nColumns using the index location method:\")\n",
        "print(columns_iloc)"
      ],
      "metadata": {
        "colab": {
          "base_uri": "https://localhost:8080/"
        },
        "id": "6kzBoH9K7IQB",
        "outputId": "581705fe-e355-4a68-de12-150577e94229"
      },
      "execution_count": null,
      "outputs": [
        {
          "output_type": "stream",
          "name": "stdout",
          "text": [
            "\n",
            "Columns using the index location method:\n",
            "   Random value 2  Random value 3\n",
            "0        0.794252       -0.550936\n",
            "1       -0.488182        0.609604\n",
            "2        1.013421        0.722952\n",
            "3       -0.539625       -0.859384\n"
          ]
        }
      ]
    },
    {
      "cell_type": "code",
      "source": [],
      "metadata": {
        "id": "mbp4H9A37KKP"
      },
      "execution_count": null,
      "outputs": []
    }
  ]
}