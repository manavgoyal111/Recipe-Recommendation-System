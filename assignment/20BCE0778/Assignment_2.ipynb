{
  "nbformat": 4,
  "nbformat_minor": 0,
  "metadata": {
    "colab": {
      "provenance": []
    },
    "kernelspec": {
      "name": "python3",
      "display_name": "Python 3"
    },
    "language_info": {
      "name": "python"
    }
  },
  "cells": [
    {
      "cell_type": "code",
      "execution_count": null,
      "metadata": {
        "id": "XH2R60WXaHQV",
        "colab": {
          "base_uri": "https://localhost:8080/"
        },
        "outputId": "3490eeca-ec8b-48b8-d587-14b0ec0e495a"
      },
      "outputs": [
        {
          "output_type": "stream",
          "name": "stdout",
          "text": [
            "     Age  Sex  BP  Cholesterol  Na_to_K\n",
            "79    32    0   1            1   10.840\n",
            "197   52    1   2            0    9.894\n",
            "38    39    0   2            1    9.709\n",
            "24    33    0   1            0   33.486\n",
            "122   34    1   2            0   22.456\n",
            "\n",
            "79     drugX\n",
            "197    drugX\n",
            "38     drugX\n",
            "24     DrugY\n",
            "122    DrugY\n",
            "Name: Drug, dtype: object\n"
          ]
        }
      ],
      "source": [
        "import pandas as pd\n",
        "from sklearn.model_selection import train_test_split\n",
        "from sklearn.preprocessing import LabelEncoder\n",
        "\n",
        "# Read the dataset\n",
        "data = pd.read_csv('drug.csv')\n",
        "\n",
        "# Split features and target variable\n",
        "X = data.drop('Drug', axis=1)\n",
        "y = data['Drug']\n",
        "\n",
        "# Perform label encoding for categorical variables\n",
        "le = LabelEncoder()\n",
        "X['Sex'] = le.fit_transform(X['Sex'])\n",
        "X['BP'] = le.fit_transform(X['BP'])\n",
        "X['Cholesterol'] = le.fit_transform(X['Cholesterol'])\n",
        "\n",
        "# Split the data into training and testing sets\n",
        "X_train, X_test, y_train, y_test = train_test_split(X, y, test_size=0.2, random_state=42)\n",
        "\n",
        "# Print the pre-processed data\n",
        "print(X_train.head())\n",
        "print()\n",
        "print(y_train.head())"
      ]
    },
    {
      "cell_type": "code",
      "source": [
        "import tensorflow as tf\n",
        "from tensorflow import keras\n",
        "\n",
        "# Build the ANN model\n",
        "model = keras.Sequential([\n",
        "    keras.layers.Dense(64, activation='relu', input_shape=(5,)),\n",
        "    keras.layers.Dense(128, activation='relu'),\n",
        "    keras.layers.Dense(64, activation='relu'),\n",
        "    keras.layers.Dense(5, activation='softmax')\n",
        "])\n",
        "\n",
        "# Compile the model\n",
        "model.compile(optimizer='adam', loss='sparse_categorical_crossentropy', metrics=['accuracy'])\n",
        "\n",
        "# Print the model summary\n",
        "model.summary()"
      ],
      "metadata": {
        "colab": {
          "base_uri": "https://localhost:8080/"
        },
        "id": "8ZwA2ZcHafZi",
        "outputId": "798877c8-ddfc-42af-b759-e8c14cf8f96e"
      },
      "execution_count": null,
      "outputs": [
        {
          "output_type": "stream",
          "name": "stdout",
          "text": [
            "Model: \"sequential\"\n",
            "_________________________________________________________________\n",
            " Layer (type)                Output Shape              Param #   \n",
            "=================================================================\n",
            " dense (Dense)               (None, 64)                384       \n",
            "                                                                 \n",
            " dense_1 (Dense)             (None, 128)               8320      \n",
            "                                                                 \n",
            " dense_2 (Dense)             (None, 64)                8256      \n",
            "                                                                 \n",
            " dense_3 (Dense)             (None, 5)                 325       \n",
            "                                                                 \n",
            "=================================================================\n",
            "Total params: 17,285\n",
            "Trainable params: 17,285\n",
            "Non-trainable params: 0\n",
            "_________________________________________________________________\n"
          ]
        }
      ]
    },
    {
      "cell_type": "code",
      "source": [
        "# Convert test data to float32\n",
        "X_test = X_test.astype('float32')\n",
        "\n",
        "# Encode categorical labels to numeric values\n",
        "label_encoder = LabelEncoder()\n",
        "y_test_encoded = label_encoder.fit_transform(y_test)\n",
        "\n",
        "# Test the model with random data\n",
        "loss, accuracy = model.evaluate(X_test, y_test_encoded)\n",
        "print(f'Test Loss: {loss}')\n",
        "print(f'Test Accuracy: {accuracy}')"
      ],
      "metadata": {
        "colab": {
          "base_uri": "https://localhost:8080/"
        },
        "id": "i6M4QP4kayqT",
        "outputId": "1e939f0c-2bfd-4347-a202-34498aa83ad4"
      },
      "execution_count": null,
      "outputs": [
        {
          "output_type": "stream",
          "name": "stdout",
          "text": [
            "2/2 [==============================] - 0s 8ms/step - loss: 1.9018 - accuracy: 0.2750\n",
            "Test Loss: 1.901828408241272\n",
            "Test Accuracy: 0.2750000059604645\n"
          ]
        }
      ]
    },
    {
      "cell_type": "code",
      "source": [],
      "metadata": {
        "id": "hSGvrdRma00L"
      },
      "execution_count": null,
      "outputs": []
    }
  ]
}